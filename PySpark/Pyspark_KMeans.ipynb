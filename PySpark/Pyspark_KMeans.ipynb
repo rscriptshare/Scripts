{
 "cells": [
  {
   "cell_type": "code",
   "execution_count": 1,
   "metadata": {
    "colab": {
     "base_uri": "https://localhost:8080/"
    },
    "id": "uGpKEUHCfPEV",
    "outputId": "a3bee52c-2486-4c16-ac64-175d646b18d7"
   },
   "outputs": [
    {
     "name": "stdout",
     "output_type": "stream",
     "text": [
      "Collecting pyspark\n",
      "\u001b[?25l  Downloading https://files.pythonhosted.org/packages/f0/26/198fc8c0b98580f617cb03cb298c6056587b8f0447e20fa40c5b634ced77/pyspark-3.0.1.tar.gz (204.2MB)\n",
      "\u001b[K     |████████████████████████████████| 204.2MB 71kB/s \n",
      "\u001b[?25hCollecting py4j==0.10.9\n",
      "\u001b[?25l  Downloading https://files.pythonhosted.org/packages/9e/b6/6a4fb90cd235dc8e265a6a2067f2a2c99f0d91787f06aca4bcf7c23f3f80/py4j-0.10.9-py2.py3-none-any.whl (198kB)\n",
      "\u001b[K     |████████████████████████████████| 204kB 50.3MB/s \n",
      "\u001b[?25hBuilding wheels for collected packages: pyspark\n",
      "  Building wheel for pyspark (setup.py) ... \u001b[?25l\u001b[?25hdone\n",
      "  Created wheel for pyspark: filename=pyspark-3.0.1-py2.py3-none-any.whl size=204612242 sha256=807a3134c50af1d1be0f878b2612bd68f754fecf4950cdf5af13a596c14a5405\n",
      "  Stored in directory: /root/.cache/pip/wheels/5e/bd/07/031766ca628adec8435bb40f0bd83bb676ce65ff4007f8e73f\n",
      "Successfully built pyspark\n",
      "Installing collected packages: py4j, pyspark\n",
      "Successfully installed py4j-0.10.9 pyspark-3.0.1\n",
      "Collecting chart_studio\n",
      "\u001b[?25l  Downloading https://files.pythonhosted.org/packages/ca/ce/330794a6b6ca4b9182c38fc69dd2a9cbff60fd49421cb8648ee5fee352dc/chart_studio-1.1.0-py3-none-any.whl (64kB)\n",
      "\u001b[K     |████████████████████████████████| 71kB 3.7MB/s \n",
      "\u001b[?25hRequirement already satisfied: requests in /usr/local/lib/python3.6/dist-packages (from chart_studio) (2.23.0)\n",
      "Requirement already satisfied: retrying>=1.3.3 in /usr/local/lib/python3.6/dist-packages (from chart_studio) (1.3.3)\n",
      "Requirement already satisfied: six in /usr/local/lib/python3.6/dist-packages (from chart_studio) (1.15.0)\n",
      "Requirement already satisfied: plotly in /usr/local/lib/python3.6/dist-packages (from chart_studio) (4.4.1)\n",
      "Requirement already satisfied: chardet<4,>=3.0.2 in /usr/local/lib/python3.6/dist-packages (from requests->chart_studio) (3.0.4)\n",
      "Requirement already satisfied: urllib3!=1.25.0,!=1.25.1,<1.26,>=1.21.1 in /usr/local/lib/python3.6/dist-packages (from requests->chart_studio) (1.24.3)\n",
      "Requirement already satisfied: certifi>=2017.4.17 in /usr/local/lib/python3.6/dist-packages (from requests->chart_studio) (2020.12.5)\n",
      "Requirement already satisfied: idna<3,>=2.5 in /usr/local/lib/python3.6/dist-packages (from requests->chart_studio) (2.10)\n",
      "Installing collected packages: chart-studio\n",
      "Successfully installed chart-studio-1.1.0\n"
     ]
    }
   ],
   "source": [
    "!pip install pyspark\n",
    "!pip install chart_studio\n",
    "from pyspark import SparkContext\n",
    "from pyspark.sql import SQLContext, HiveContext, SparkSession\n",
    "from pyspark.sql import functions as F\n",
    "#import boto3\n",
    "#from tcg_secret import *\n",
    "from pyspark.sql.window import Window\n",
    "from pyspark.ml.feature import Bucketizer, StringIndexer, VectorAssembler, OneHotEncoder, StandardScaler, MinMaxScaler, PCA\n",
    "from pyspark.ml import Pipeline\n",
    "from pyspark.ml.clustering import KMeans\n",
    "from pyspark.ml.evaluation import ClusteringEvaluator\n",
    "from pyspark.sql.functions import col, udf\n",
    "from pyspark.sql.types import DateType,ArrayType, DoubleType\n",
    "import plotly.graph_objects as go\n",
    "import chart_studio.plotly as py\n",
    "import plotly.graph_objs as go\n",
    "from plotly.offline import plot, iplot\n",
    "from matplotlib import rcParams\n",
    "import matplotlib.pylab as pylab\n",
    "import matplotlib.pyplot as plt\n",
    "import openpyxl.workbook\n",
    "import numpy as np\n",
    "import pandas as pd\n",
    "import csv\n",
    "from datetime import datetime\n",
    "from datetime import date"
   ]
  },
  {
   "cell_type": "code",
   "execution_count": 2,
   "metadata": {
    "id": "QsLTAiVIgnsh"
   },
   "outputs": [],
   "source": [
    "ss = SparkSession.builder.appName(\"feat_eng\").getOrCreate()\n",
    "sqlContext = SQLContext(ss)\n",
    "df = ss.read.format('csv').options(header='true').load('/content/sample_data/Online_Retail.csv', sep='|')"
   ]
  },
  {
   "cell_type": "code",
   "execution_count": 3,
   "metadata": {
    "colab": {
     "base_uri": "https://localhost:8080/"
    },
    "id": "VTozYF70oUdn",
    "outputId": "a169e957-3775-49e7-cfa1-b99dcd468eba"
   },
   "outputs": [
    {
     "name": "stdout",
     "output_type": "stream",
     "text": [
      "root\n",
      " |-- InvoiceNo: string (nullable = true)\n",
      " |-- StockCode: string (nullable = true)\n",
      " |-- Description: string (nullable = true)\n",
      " |-- Quantity: string (nullable = true)\n",
      " |-- InvoiceDate: string (nullable = true)\n",
      " |-- UnitPrice: string (nullable = true)\n",
      " |-- CustomerID: string (nullable = true)\n",
      " |-- Country: string (nullable = true)\n",
      "\n",
      "+---------+---------+-----------------------------------+--------+-------------------+---------+----------+--------------+\n",
      "|InvoiceNo|StockCode|Description                        |Quantity|InvoiceDate        |UnitPrice|CustomerID|Country       |\n",
      "+---------+---------+-----------------------------------+--------+-------------------+---------+----------+--------------+\n",
      "|536365   |85123A   |WHITE HANGING HEART T-LIGHT HOLDER |6       |2010-12-01 08:26:00|2.55     |17850     |United Kingdom|\n",
      "|536365   |71053    |WHITE METAL LANTERN                |6       |2010-12-01 08:26:00|3.39     |17850     |United Kingdom|\n",
      "|536365   |84406B   |CREAM CUPID HEARTS COAT HANGER     |8       |2010-12-01 08:26:00|2.75     |17850     |United Kingdom|\n",
      "|536365   |84029G   |KNITTED UNION FLAG HOT WATER BOTTLE|6       |2010-12-01 08:26:00|3.39     |17850     |United Kingdom|\n",
      "|536365   |84029E   |RED WOOLLY HOTTIE WHITE HEART.     |6       |2010-12-01 08:26:00|3.39     |17850     |United Kingdom|\n",
      "+---------+---------+-----------------------------------+--------+-------------------+---------+----------+--------------+\n",
      "only showing top 5 rows\n",
      "\n"
     ]
    }
   ],
   "source": [
    "df.printSchema()\n",
    "df.show(5, truncate = False)"
   ]
  },
  {
   "cell_type": "markdown",
   "metadata": {},
   "source": [
    "### Changing data type"
   ]
  },
  {
   "cell_type": "code",
   "execution_count": 4,
   "metadata": {
    "id": "RP1vXsT-pzQg"
   },
   "outputs": [],
   "source": [
    "df = df.withColumn('Quantity', F.col('Quantity').cast('integer'))\n",
    "df = df.withColumn('UnitPrice', F.col('UnitPrice').cast('double'))\n",
    "\n",
    "func = udf(lambda x: datetime.strptime(x, '%Y-%m-%d %H:%M:%S'), DateType())\n",
    "df = df.withColumn('InvoiceDate', func(col('InvoiceDate')))"
   ]
  },
  {
   "cell_type": "code",
   "execution_count": 5,
   "metadata": {
    "colab": {
     "base_uri": "https://localhost:8080/"
    },
    "id": "xmbzovpqp91G",
    "outputId": "86b26e75-b40d-4114-e485-9ba98df5130b"
   },
   "outputs": [
    {
     "name": "stdout",
     "output_type": "stream",
     "text": [
      "root\n",
      " |-- InvoiceNo: string (nullable = true)\n",
      " |-- StockCode: string (nullable = true)\n",
      " |-- Description: string (nullable = true)\n",
      " |-- Quantity: integer (nullable = true)\n",
      " |-- InvoiceDate: date (nullable = true)\n",
      " |-- UnitPrice: double (nullable = true)\n",
      " |-- CustomerID: string (nullable = true)\n",
      " |-- Country: string (nullable = true)\n",
      "\n"
     ]
    }
   ],
   "source": [
    "df.printSchema()"
   ]
  },
  {
   "cell_type": "code",
   "execution_count": 6,
   "metadata": {
    "colab": {
     "base_uri": "https://localhost:8080/"
    },
    "id": "71jVEZyco_NG",
    "outputId": "41246ad7-3791-48c1-df0b-c67896d2f03b"
   },
   "outputs": [
    {
     "name": "stdout",
     "output_type": "stream",
     "text": [
      "+-------+-----------------+------------------+--------------------+-----------------+-----------------+------------------+-----------+\n",
      "|summary|        InvoiceNo|         StockCode|         Description|         Quantity|        UnitPrice|        CustomerID|    Country|\n",
      "+-------+-----------------+------------------+--------------------+-----------------+-----------------+------------------+-----------+\n",
      "|  count|           541909|            541909|              540454|           541909|           541909|            406829|     541909|\n",
      "|   mean| 559965.752026781|27623.240210938104|                null| 9.55224954743324|4.611113626083086|15287.690570239585|       null|\n",
      "| stddev|13428.41728080376|16799.737628427716|                null|218.0811578502348|96.75985306117958|   1713.6003033216|       null|\n",
      "|    min|           536365|             10002| 4 PURPLE FLOCK D...|           -80995|        -11062.06|             12346|  Australia|\n",
      "|    max|          C581569|                 m|   wrongly sold sets|            80995|          38970.0|             18287|Unspecified|\n",
      "+-------+-----------------+------------------+--------------------+-----------------+-----------------+------------------+-----------+\n",
      "\n"
     ]
    },
    {
     "data": {
      "text/plain": [
       "InvoiceNo           0\n",
       "StockCode           0\n",
       "Description      1455\n",
       "Quantity            0\n",
       "InvoiceDate         0\n",
       "UnitPrice           0\n",
       "CustomerID     135080\n",
       "Country             0\n",
       "dtype: int64"
      ]
     },
     "execution_count": 6,
     "metadata": {
      "tags": []
     },
     "output_type": "execute_result"
    }
   ],
   "source": [
    "df.describe().show()\n",
    "df.toPandas().isnull().sum()"
   ]
  },
  {
   "cell_type": "code",
   "execution_count": 7,
   "metadata": {
    "colab": {
     "base_uri": "https://localhost:8080/"
    },
    "id": "TIsq4pbr1B1l",
    "outputId": "d1474b48-1884-42cc-fc09-737ce0bbc4e4"
   },
   "outputs": [
    {
     "name": "stdout",
     "output_type": "stream",
     "text": [
      "+-----------------+\n",
      "|count(CustomerID)|\n",
      "+-----------------+\n",
      "|             4372|\n",
      "+-----------------+\n",
      "\n",
      "There\"re 4372  distinct customers.\n"
     ]
    }
   ],
   "source": [
    "df.agg(F.countDistinct(df.CustomerID)).show()\n",
    "print('There\"re', len(df.select('CustomerID').filter( df.CustomerID.isNotNull()).distinct().collect()), ' distinct customers.')"
   ]
  },
  {
   "cell_type": "code",
   "execution_count": 8,
   "metadata": {
    "id": "FupizeJspDe-"
   },
   "outputs": [],
   "source": [
    "df.write.mode(\"overwrite\").saveAsTable(\"sql_table1\")"
   ]
  },
  {
   "cell_type": "code",
   "execution_count": 9,
   "metadata": {
    "colab": {
     "base_uri": "https://localhost:8080/"
    },
    "id": "4x2_Jvd7pHLA",
    "outputId": "f6ae2bf7-20b7-4eb6-fd1c-d7f3ff223442"
   },
   "outputs": [
    {
     "name": "stdout",
     "output_type": "stream",
     "text": [
      "+----------------+----------------+\n",
      "|min(InvoiceDate)|max(invoiceDate)|\n",
      "+----------------+----------------+\n",
      "|      2010-12-01|      2011-12-09|\n",
      "+----------------+----------------+\n",
      "\n"
     ]
    }
   ],
   "source": [
    "min_max_invoicedate = ss.sql('''\n",
    "select min(InvoiceDate), max(invoiceDate) from sql_table1\n",
    "''')\n",
    "min_max_invoicedate.show()"
   ]
  },
  {
   "cell_type": "code",
   "execution_count": 10,
   "metadata": {
    "id": "tBv0Js2_2qeR"
   },
   "outputs": [],
   "source": [
    "# Calculating total amount by customer & invoice level\n",
    "invoice_totalamount = ss.sql('''\n",
    "select Customerid, InvoiceNo, sum(quantity * unitprice) as TransTotalAmount from sql_table1 where customerid is not null group by customerid, invoiceno\n",
    "''')"
   ]
  },
  {
   "cell_type": "code",
   "execution_count": 11,
   "metadata": {
    "id": "1BHazHtQ1FDJ"
   },
   "outputs": [],
   "source": [
    "# Calculating average transaction spending for each customer\n",
    "temp2 = invoice_totalamount.groupBy('CustomerID')\\\n",
    ".agg(\n",
    "    F.countDistinct('InvoiceNo').alias('NumOfTrans2')\n",
    "    ,F.sum('TransTotalAmount').alias('net_sales')\n",
    "    )\\\n",
    ".withColumn('MeanTransSpend', F.col('net_sales')/F.col('NumOfTrans2')) "
   ]
  },
  {
   "cell_type": "code",
   "execution_count": 12,
   "metadata": {
    "colab": {
     "base_uri": "https://localhost:8080/"
    },
    "id": "k8VT5Zp532oR",
    "outputId": "3bd4e245-6160-408c-9819-3e18aed6b71d"
   },
   "outputs": [
    {
     "name": "stdout",
     "output_type": "stream",
     "text": [
      "(4372, 4)\n",
      "+----------+-----------+------------------+-----------------+\n",
      "|CustomerID|NumOfTrans2|         net_sales|   MeanTransSpend|\n",
      "+----------+-----------+------------------+-----------------+\n",
      "|     15555|         20|            4758.2|           237.91|\n",
      "|     15574|          4|            702.25|         175.5625|\n",
      "|     15634|          1|            243.55|           243.55|\n",
      "|     13610|          9|1115.4300000000003|123.9366666666667|\n",
      "|     13192|          2|            911.94|           455.97|\n",
      "+----------+-----------+------------------+-----------------+\n",
      "\n"
     ]
    }
   ],
   "source": [
    "print((temp2.count(), len(temp2.columns)))\n",
    "temp2.limit(5).show()"
   ]
  },
  {
   "cell_type": "markdown",
   "metadata": {
    "id": "THoFjH87diPU"
   },
   "source": [
    "## Aggregating the Main Table"
   ]
  },
  {
   "cell_type": "code",
   "execution_count": 13,
   "metadata": {
    "id": "T8DU182FpODn"
   },
   "outputs": [],
   "source": [
    "result = df.withColumn('TotalPrice', F.col('Quantity') * F.col('UnitPrice')) \\\n",
    ".filter(   (df.CustomerID.isNotNull()) &  (df.Description.isNotNull()) )\\\n",
    ".groupBy('CustomerID')\\\n",
    ".agg(\n",
    "    F.max('InvoiceDate').alias('Last_Transaction_Date'),        \n",
    "     F.max('UnitPrice').alias('MaxProductSpend'),                                                                                   \n",
    "     F.sum('Quantity').alias('NumofProds'),                                        \n",
    "     F.countDistinct('InvoiceNo').alias('NumofTrans'), \n",
    "     F.countDistinct('InvoiceDate').alias('Frequency'),                                            \n",
    "     F.countDistinct('StockCode').alias('DistinctItems'),\n",
    "     F.sum('TotalPrice').alias('TotalSpend')\n",
    "     )\\\n",
    ".withColumn('DaysSinceTrans', (-1*F.datediff(F.col('Last_Transaction_Date'), \\\n",
    "F.to_date(F.lit(str('2011-12-31'))))).alias('diff'))\\\n",
    ".withColumn('MeanProductSpend', F.col('TotalSpend') / F.col('NumofProds'))"
   ]
  },
  {
   "cell_type": "code",
   "execution_count": 14,
   "metadata": {
    "colab": {
     "base_uri": "https://localhost:8080/"
    },
    "id": "1im7c6kDyYi9",
    "outputId": "6365fd58-0a3e-4d89-a5c2-d956b8b47229"
   },
   "outputs": [
    {
     "name": "stdout",
     "output_type": "stream",
     "text": [
      "+----------+---------------------+---------------+----------+----------+---------+-------------+------------------+--------------+------------------+\n",
      "|CustomerID|Last_Transaction_Date|MaxProductSpend|NumofProds|NumofTrans|Frequency|DistinctItems|        TotalSpend|DaysSinceTrans|  MeanProductSpend|\n",
      "+----------+---------------------+---------------+----------+----------+---------+-------------+------------------+--------------+------------------+\n",
      "|     15574|           2011-06-15|          14.95|       349|         4|        3|          131| 702.2500000000001|           199|2.0121776504297997|\n",
      "|     17686|           2011-12-02|          16.95|      2478|         7|        5|          205| 5739.460000000005|            29|2.3161662631154174|\n",
      "|     15555|           2011-11-27|          19.95|      4410|        20|       16|          404| 4758.199999999993|            34|1.0789569160997718|\n",
      "|     13282|           2011-11-21|          14.95|       289|         6|        6|           30|           1047.84|            40|3.6257439446366777|\n",
      "|     15271|           2011-12-02|          24.95|      1257|        16|       16|          184|2485.8199999999997|            29|1.9775815433571995|\n",
      "+----------+---------------------+---------------+----------+----------+---------+-------------+------------------+--------------+------------------+\n",
      "\n",
      "+-------+------------------+-----------------+------------------+----------------+-----------------+-----------------+------------------+------------------+-----------------+\n",
      "|summary|        CustomerID|  MaxProductSpend|        NumofProds|      NumofTrans|        Frequency|    DistinctItems|        TotalSpend|    DaysSinceTrans| MeanProductSpend|\n",
      "+-------+------------------+-----------------+------------------+----------------+-----------------+-----------------+------------------+------------------+-----------------+\n",
      "|  count|              4372|             4372|              4372|            4372|             4372|             4372|              4372|              4372|             4359|\n",
      "|   mean|15299.677721866423|39.59115965233301|1122.3440073193046|5.07548032936871|4.413540713632205|61.21111619396157|1898.4597012808774|113.58119853613907|4.627256228047596|\n",
      "| stddev|1722.3907054276904|622.6613605746282| 4672.790720294933|9.33875416357473|6.674343299080208|85.42511901387198| 8219.345141066578|100.77213931384834|78.69660450697351|\n",
      "|    min|             12346|              0.0|              -303|               1|                1|                1|          -4287.63|                22|           -4.075|\n",
      "|    max|             18287|          38970.0|            196719|             248|              146|             1794| 279489.0199999992|               395|          4287.63|\n",
      "+-------+------------------+-----------------+------------------+----------------+-----------------+-----------------+------------------+------------------+-----------------+\n",
      "\n"
     ]
    }
   ],
   "source": [
    "result.limit(5).show()\n",
    "result.describe().show()"
   ]
  },
  {
   "cell_type": "code",
   "execution_count": 15,
   "metadata": {
    "colab": {
     "base_uri": "https://localhost:8080/"
    },
    "id": "h0KyPuhD9OZK",
    "outputId": "513b1caa-3a05-4b53-a67f-77f5b7713eeb"
   },
   "outputs": [
    {
     "name": "stdout",
     "output_type": "stream",
     "text": [
      "(4364, 2)\n"
     ]
    }
   ],
   "source": [
    "# eliminating those customer with 2 countries\n",
    "customer_country = ss.sql('''\n",
    "select distinct Customerid, Country from sql_table1 \n",
    "where customerid is not null and customerid in \n",
    "(select customerid from sql_table1 \n",
    "group by customerid \n",
    "having count(distinct country) = 1)\n",
    "''')\n",
    "print((customer_country.count(), len(customer_country.columns)))"
   ]
  },
  {
   "cell_type": "code",
   "execution_count": 16,
   "metadata": {
    "colab": {
     "base_uri": "https://localhost:8080/"
    },
    "id": "tgdfm1e_4AsH",
    "outputId": "5ab2fc08-1f2a-47bd-f1a0-f7f1c977140a"
   },
   "outputs": [
    {
     "name": "stdout",
     "output_type": "stream",
     "text": [
      "(4372, 14)\n",
      "+----------+---------------------+---------------+----------+----------+---------+-------------+-----------------+--------------+------------------+-----------+-----------------+-----------------+--------------+\n",
      "|CustomerID|Last_Transaction_Date|MaxProductSpend|NumofProds|NumofTrans|Frequency|DistinctItems|       TotalSpend|DaysSinceTrans|  MeanProductSpend|NumOfTrans2|        net_sales|   MeanTransSpend|       Country|\n",
      "+----------+---------------------+---------------+----------+----------+---------+-------------+-----------------+--------------+------------------+-----------+-----------------+-----------------+--------------+\n",
      "|     15574|           2011-06-15|          14.95|       349|         4|        3|          131|702.2500000000001|           199|2.0121776504297997|          4|           702.25|         175.5625|United Kingdom|\n",
      "|     17686|           2011-12-02|          16.95|      2478|         7|        5|          205|5739.460000000005|            29|2.3161662631154174|          7|5739.460000000001|819.9228571428573|United Kingdom|\n",
      "|     15555|           2011-11-27|          19.95|      4410|        20|       16|          404|4758.199999999993|            34|1.0789569160997718|         20|           4758.2|           237.91|United Kingdom|\n",
      "+----------+---------------------+---------------+----------+----------+---------+-------------+-----------------+--------------+------------------+-----------+-----------------+-----------------+--------------+\n",
      "\n"
     ]
    }
   ],
   "source": [
    "output = result.join(temp2, ['CustomerId'], 'left').join(customer_country, ['CustomerId'] ,'left')\n",
    "print((output.count(), len(output.columns)))\n",
    "output.limit(3).show()"
   ]
  },
  {
   "cell_type": "code",
   "execution_count": 17,
   "metadata": {
    "id": "fftFU23x0JYZ"
   },
   "outputs": [],
   "source": [
    "final = output.select(['CustomerID', \n",
    " 'Country',\n",
    " 'Last_Transaction_Date',\n",
    " 'MaxProductSpend',\n",
    " 'NumofProds',\n",
    " 'NumofTrans',\n",
    " 'Frequency',\n",
    " 'DistinctItems',\n",
    " 'TotalSpend',\n",
    " 'DaysSinceTrans',\n",
    " 'MeanProductSpend',\n",
    " 'MeanTransSpend'])"
   ]
  },
  {
   "cell_type": "markdown",
   "metadata": {},
   "source": [
    "## Handling Outliers"
   ]
  },
  {
   "cell_type": "code",
   "execution_count": 18,
   "metadata": {
    "id": "T95kizim0SCi"
   },
   "outputs": [],
   "source": [
    "col_outlier = ['MaxProductSpend','NumofProds','NumofTrans', 'Frequency','DistinctItems', 'TotalSpend', 'MeanProductSpend','MeanTransSpend'] "
   ]
  },
  {
   "cell_type": "code",
   "execution_count": 19,
   "metadata": {
    "id": "6O16qa3M0dB0"
   },
   "outputs": [],
   "source": [
    "col_outlier2 = []\n",
    "for col in col_outlier:\n",
    "    col_outlier2.append(col+'_RemovedOutliers')"
   ]
  },
  {
   "cell_type": "code",
   "execution_count": 20,
   "metadata": {
    "id": "cHC5Z9Jd4THg"
   },
   "outputs": [],
   "source": [
    "outlier_stats2 = output.select(col_outlier).describe().collect()"
   ]
  },
  {
   "cell_type": "code",
   "execution_count": 21,
   "metadata": {
    "id": "FE09_WqM5veL"
   },
   "outputs": [],
   "source": [
    "# outlier_stats2"
   ]
  },
  {
   "cell_type": "code",
   "execution_count": 22,
   "metadata": {
    "colab": {
     "base_uri": "https://localhost:8080/",
     "height": 194
    },
    "id": "KvdktHqA5XWt",
    "outputId": "a0655323-c055-4605-d764-e92032cb92f2"
   },
   "outputs": [
    {
     "data": {
      "text/html": [
       "<div>\n",
       "<style scoped>\n",
       "    .dataframe tbody tr th:only-of-type {\n",
       "        vertical-align: middle;\n",
       "    }\n",
       "\n",
       "    .dataframe tbody tr th {\n",
       "        vertical-align: top;\n",
       "    }\n",
       "\n",
       "    .dataframe thead th {\n",
       "        text-align: right;\n",
       "    }\n",
       "</style>\n",
       "<table border=\"1\" class=\"dataframe\">\n",
       "  <thead>\n",
       "    <tr style=\"text-align: right;\">\n",
       "      <th></th>\n",
       "      <th>Calculation</th>\n",
       "      <th>MaxProductSpend</th>\n",
       "      <th>NumofProds</th>\n",
       "      <th>NumofTrans</th>\n",
       "      <th>Frequency</th>\n",
       "      <th>DistinctItems</th>\n",
       "      <th>TotalSpend</th>\n",
       "      <th>MeanProductSpend</th>\n",
       "      <th>MeanTransSpend</th>\n",
       "    </tr>\n",
       "  </thead>\n",
       "  <tbody>\n",
       "    <tr>\n",
       "      <th>0</th>\n",
       "      <td>count</td>\n",
       "      <td>4372</td>\n",
       "      <td>4372</td>\n",
       "      <td>4372</td>\n",
       "      <td>4372</td>\n",
       "      <td>4372</td>\n",
       "      <td>4372</td>\n",
       "      <td>4359</td>\n",
       "      <td>4372</td>\n",
       "    </tr>\n",
       "    <tr>\n",
       "      <th>1</th>\n",
       "      <td>mean</td>\n",
       "      <td>39.59115965233301</td>\n",
       "      <td>1122.3440073193046</td>\n",
       "      <td>5.07548032936871</td>\n",
       "      <td>4.413540713632205</td>\n",
       "      <td>61.21111619396157</td>\n",
       "      <td>1898.4597012808774</td>\n",
       "      <td>4.627256228047596</td>\n",
       "      <td>315.88340742424225</td>\n",
       "    </tr>\n",
       "    <tr>\n",
       "      <th>2</th>\n",
       "      <td>stddev</td>\n",
       "      <td>622.6613605746282</td>\n",
       "      <td>4672.790720294933</td>\n",
       "      <td>9.33875416357473</td>\n",
       "      <td>6.674343299080208</td>\n",
       "      <td>85.42511901387198</td>\n",
       "      <td>8219.345141066578</td>\n",
       "      <td>78.69660450697351</td>\n",
       "      <td>361.23730336260394</td>\n",
       "    </tr>\n",
       "    <tr>\n",
       "      <th>3</th>\n",
       "      <td>min</td>\n",
       "      <td>0.0</td>\n",
       "      <td>-303</td>\n",
       "      <td>1</td>\n",
       "      <td>1</td>\n",
       "      <td>1</td>\n",
       "      <td>-4287.63</td>\n",
       "      <td>-4.075</td>\n",
       "      <td>-4287.63</td>\n",
       "    </tr>\n",
       "    <tr>\n",
       "      <th>4</th>\n",
       "      <td>max</td>\n",
       "      <td>38970.0</td>\n",
       "      <td>196719</td>\n",
       "      <td>248</td>\n",
       "      <td>146</td>\n",
       "      <td>1794</td>\n",
       "      <td>279489.0199999992</td>\n",
       "      <td>4287.63</td>\n",
       "      <td>6207.669999999996</td>\n",
       "    </tr>\n",
       "  </tbody>\n",
       "</table>\n",
       "</div>"
      ],
      "text/plain": [
       "  Calculation    MaxProductSpend  ...   MeanProductSpend      MeanTransSpend\n",
       "0       count               4372  ...               4359                4372\n",
       "1        mean  39.59115965233301  ...  4.627256228047596  315.88340742424225\n",
       "2      stddev  622.6613605746282  ...  78.69660450697351  361.23730336260394\n",
       "3         min                0.0  ...             -4.075            -4287.63\n",
       "4         max            38970.0  ...            4287.63   6207.669999999996\n",
       "\n",
       "[5 rows x 9 columns]"
      ]
     },
     "execution_count": 22,
     "metadata": {
      "tags": []
     },
     "output_type": "execute_result"
    }
   ],
   "source": [
    "pd.DataFrame(outlier_stats2, columns = ['Calculation'] + col_outlier)"
   ]
  },
  {
   "cell_type": "code",
   "execution_count": 23,
   "metadata": {
    "colab": {
     "base_uri": "https://localhost:8080/"
    },
    "id": "6JE2hYya5Epl",
    "outputId": "6744e7fe-72d2-4564-9140-a92cbeb3b8ca"
   },
   "outputs": [
    {
     "name": "stdout",
     "output_type": "stream",
     "text": [
      " mean:  39.59115965233301 \n",
      " stddev:  622.6613605746282 \n",
      " max:  38970.0\n"
     ]
    }
   ],
   "source": [
    "print(' mean: ',outlier_stats2[1]['MaxProductSpend']\n",
    "      , '\\n stddev: ',outlier_stats2[2]['MaxProductSpend']\n",
    "      , '\\n max: ',outlier_stats2[4]['MaxProductSpend'])"
   ]
  },
  {
   "cell_type": "code",
   "execution_count": 24,
   "metadata": {
    "colab": {
     "base_uri": "https://localhost:8080/"
    },
    "id": "Mu-G8xli5NHh",
    "outputId": "846e462f-be38-4047-e056-33a4147e4128"
   },
   "outputs": [
    {
     "name": "stdout",
     "output_type": "stream",
     "text": [
      "MaxProductSpend\n",
      "min: 0.0 , max: 38970.0\n",
      "min_limit: 0 , max_limit: 2530\n",
      "\n",
      "NumofProds\n",
      "min: -303.0 , max: 196719.0\n",
      "min_limit: -303 , max_limit: 19813\n",
      "\n",
      "NumofTrans\n",
      "min: 1.0 , max: 248.0\n",
      "min_limit: 1 , max_limit: 42\n",
      "\n",
      "Frequency\n",
      "min: 1.0 , max: 146.0\n",
      "min_limit: 1 , max_limit: 31\n",
      "\n",
      "DistinctItems\n",
      "min: 1.0 , max: 1794.0\n",
      "min_limit: 1 , max_limit: 402\n",
      "\n",
      "TotalSpend\n",
      "min: -4287.63 , max: 279489.0199999992\n",
      "min_limit: -4287 , max_limit: 34775\n",
      "\n",
      "MeanProductSpend\n",
      "min: -4.075 , max: 4287.63\n",
      "min_limit: -4 , max_limit: 319\n",
      "\n",
      "MeanTransSpend\n",
      "min: -4287.63 , max: 6207.669999999996\n",
      "min_limit: -1129 , max_limit: 1760\n",
      "\n"
     ]
    }
   ],
   "source": [
    "n_stddev = 4\n",
    "for col in col_outlier:\n",
    "    min_ = float(outlier_stats2[3][col])\n",
    "    max_ = float(outlier_stats2[4][col])\n",
    "    mean = float(outlier_stats2[1][col])\n",
    "    stddev = float(outlier_stats2[2][col])\n",
    "    max_limit = int(min(max_,mean + n_stddev*stddev))\n",
    "    min_limit = int(max(min_,mean - n_stddev*stddev))\n",
    "    print(col + '\\n' +  'min: ' + str(min_) + ' , max: ' + str(max_))\n",
    "    print('min_limit: ' + str(min_limit) + ' , max_limit: ' + str(max_limit) + '\\n')"
   ]
  },
  {
   "cell_type": "code",
   "execution_count": 25,
   "metadata": {
    "id": "vMtRaLNt6jDj"
   },
   "outputs": [],
   "source": [
    "n_stddev = 4\n",
    "for col in col_outlier:\n",
    "    min_ = float(outlier_stats2[3][col])\n",
    "    max_ = float(outlier_stats2[4][col])\n",
    "    mean = float(outlier_stats2[1][col])\n",
    "    stddev = float(outlier_stats2[2][col])\n",
    "    max_limit = min(max_,mean + n_stddev*stddev)\n",
    "    min_limit = max(min_,mean - n_stddev*stddev)\n",
    "    final = final.withColumn(col+ '_RemovedOutliers', F.when(F.col(col)>max_limit, max_limit)\\\n",
    "                             .when(F.col(col)<min_limit, min_limit)\\\n",
    "                             .otherwise(F.col(col))).drop(col)"
   ]
  },
  {
   "cell_type": "code",
   "execution_count": 26,
   "metadata": {
    "colab": {
     "base_uri": "https://localhost:8080/"
    },
    "id": "DLokXjqi_mlw",
    "outputId": "6c1c4e2d-e0d5-46f9-e95d-de145833c16c"
   },
   "outputs": [
    {
     "name": "stdout",
     "output_type": "stream",
     "text": [
      "+----------+--------------+---------------------+--------------+-------------------------------+--------------------------+--------------------------+-------------------------+-----------------------------+--------------------------+--------------------------------+------------------------------+\n",
      "|CustomerID|       Country|Last_Transaction_Date|DaysSinceTrans|MaxProductSpend_RemovedOutliers|NumofProds_RemovedOutliers|NumofTrans_RemovedOutliers|Frequency_RemovedOutliers|DistinctItems_RemovedOutliers|TotalSpend_RemovedOutliers|MeanProductSpend_RemovedOutliers|MeanTransSpend_RemovedOutliers|\n",
      "+----------+--------------+---------------------+--------------+-------------------------------+--------------------------+--------------------------+-------------------------+-----------------------------+--------------------------+--------------------------------+------------------------------+\n",
      "|     15574|United Kingdom|           2011-06-15|           199|                          14.95|                     349.0|                       4.0|                      3.0|                        131.0|         702.2500000000001|              2.0121776504297997|                      175.5625|\n",
      "|     17686|United Kingdom|           2011-12-02|            29|                          16.95|                    2478.0|                       7.0|                      5.0|                        205.0|         5739.460000000005|              2.3161662631154174|             819.9228571428573|\n",
      "|     15555|United Kingdom|           2011-11-27|            34|                          19.95|                    4410.0|                      20.0|                     16.0|            402.9115922494495|         4758.199999999993|              1.0789569160997718|                        237.91|\n",
      "|     13282|United Kingdom|           2011-11-21|            40|                          14.95|                     289.0|                       6.0|                      6.0|                         30.0|                   1047.84|              3.6257439446366777|                        174.64|\n",
      "|     15271|United Kingdom|           2011-12-02|            29|                          24.95|                    1257.0|                      16.0|                     16.0|                        184.0|        2485.8199999999997|              1.9775815433571995|                     155.36375|\n",
      "+----------+--------------+---------------------+--------------+-------------------------------+--------------------------+--------------------------+-------------------------+-----------------------------+--------------------------+--------------------------------+------------------------------+\n",
      "\n"
     ]
    }
   ],
   "source": [
    "final.limit(5).show()"
   ]
  },
  {
   "cell_type": "code",
   "execution_count": 27,
   "metadata": {
    "id": "5u5B_CIW5eW1"
   },
   "outputs": [],
   "source": [
    "ID_cols = ['CustomerID']\n",
    "cat_cols = ['Country']\n",
    "non_cat_cols = ['MaxProductSpend_RemovedOutliers'\n",
    ", 'NumofProds_RemovedOutliers'\n",
    ", 'NumofTrans_RemovedOutliers'\n",
    ", 'Frequency_RemovedOutliers'\n",
    ", 'DistinctItems_RemovedOutliers'\n",
    ", 'TotalSpend_RemovedOutliers'\n",
    ", 'MeanProductSpend_RemovedOutliers'\n",
    ", 'MeanTransSpend_RemovedOutliers']"
   ]
  },
  {
   "cell_type": "code",
   "execution_count": 28,
   "metadata": {
    "colab": {
     "base_uri": "https://localhost:8080/",
     "height": 53
    },
    "id": "mShHYvH__tRF",
    "outputId": "8b9646a0-24c2-4839-d492-cd12f3408175"
   },
   "outputs": [
    {
     "data": {
      "application/vnd.google.colaboratory.intrinsic+json": {
       "type": "string"
      },
      "text/plain": [
       "'CustomerID, Country, MaxProductSpend_RemovedOutliers, NumofProds_RemovedOutliers, NumofTrans_RemovedOutliers, Frequency_RemovedOutliers, DistinctItems_RemovedOutliers, TotalSpend_RemovedOutliers, MeanProductSpend_RemovedOutliers, MeanTransSpend_RemovedOutliers'"
      ]
     },
     "execution_count": 28,
     "metadata": {
      "tags": []
     },
     "output_type": "execute_result"
    }
   ],
   "source": [
    "column_string = ', '.join(ID_cols + cat_cols + non_cat_cols)\n",
    "column_string"
   ]
  },
  {
   "cell_type": "code",
   "execution_count": 29,
   "metadata": {
    "id": "lsa_KgeZLOyz"
   },
   "outputs": [],
   "source": [
    "final.write.mode(\"overwrite\").saveAsTable('member_add_features')"
   ]
  },
  {
   "cell_type": "code",
   "execution_count": 30,
   "metadata": {
    "colab": {
     "base_uri": "https://localhost:8080/"
    },
    "id": "fcM8WjywLYLo",
    "outputId": "e5b6d2a4-96a8-406b-bac6-3377d11bb470"
   },
   "outputs": [
    {
     "name": "stdout",
     "output_type": "stream",
     "text": [
      "+----------+--------------+---------------------+--------------+-------------------------------+--------------------------+--------------------------+-------------------------+-----------------------------+--------------------------+--------------------------------+------------------------------+\n",
      "|CustomerID|       Country|Last_Transaction_Date|DaysSinceTrans|MaxProductSpend_RemovedOutliers|NumofProds_RemovedOutliers|NumofTrans_RemovedOutliers|Frequency_RemovedOutliers|DistinctItems_RemovedOutliers|TotalSpend_RemovedOutliers|MeanProductSpend_RemovedOutliers|MeanTransSpend_RemovedOutliers|\n",
      "+----------+--------------+---------------------+--------------+-------------------------------+--------------------------+--------------------------+-------------------------+-----------------------------+--------------------------+--------------------------------+------------------------------+\n",
      "|     15596|United Kingdom|           2011-08-31|           122|                          10.95|                     548.0|                       9.0|                      9.0|                         51.0|        1343.3400000000001|               2.451350364963504|                        149.26|\n",
      "|     12377|   Switzerland|           2011-01-28|           337|                           40.0|                     944.0|                       2.0|                      2.0|                         72.0|        1628.1199999999997|              1.7247033898305082|             814.0599999999998|\n",
      "|     17867|United Kingdom|           2011-11-09|            52|                          14.95|                     253.0|                       8.0|                      5.0|                         62.0|                    622.75|              2.4614624505928853|                      77.84375|\n",
      "+----------+--------------+---------------------+--------------+-------------------------------+--------------------------+--------------------------+-------------------------+-----------------------------+--------------------------+--------------------------------+------------------------------+\n",
      "\n"
     ]
    }
   ],
   "source": [
    "ss.sql('''\n",
    "select * from member_add_features\n",
    "''').limit(3).show()"
   ]
  },
  {
   "cell_type": "code",
   "execution_count": 31,
   "metadata": {
    "id": "YrYAeIg4_41s"
   },
   "outputs": [],
   "source": [
    "df_features_query = ('''\n",
    "    SELECT {0}\n",
    "    FROM member_add_features \n",
    "    where NumofProds_RemovedOutliers > 0 \n",
    "    and TotalSpend_RemovedOutliers > 0 \n",
    "    and MeanProductSpend_RemovedOutliers > 0 \n",
    "    and MeanTransSpend_RemovedOutliers > 0''').format(column_string)\n",
    "\n",
    "df_features = ss.sql(df_features_query)"
   ]
  },
  {
   "cell_type": "code",
   "execution_count": 32,
   "metadata": {
    "colab": {
     "base_uri": "https://localhost:8080/"
    },
    "id": "IIGX4yCuM3Uf",
    "outputId": "59b3e575-19e0-472c-ade6-560ad5eaae60"
   },
   "outputs": [
    {
     "data": {
      "text/plain": [
       "CustomerID                          0\n",
       "Country                             8\n",
       "MaxProductSpend_RemovedOutliers     0\n",
       "NumofProds_RemovedOutliers          0\n",
       "NumofTrans_RemovedOutliers          0\n",
       "Frequency_RemovedOutliers           0\n",
       "DistinctItems_RemovedOutliers       0\n",
       "TotalSpend_RemovedOutliers          0\n",
       "MeanProductSpend_RemovedOutliers    0\n",
       "MeanTransSpend_RemovedOutliers      0\n",
       "dtype: int64"
      ]
     },
     "execution_count": 32,
     "metadata": {
      "tags": []
     },
     "output_type": "execute_result"
    }
   ],
   "source": [
    "df_features.toPandas().isnull().sum()"
   ]
  },
  {
   "cell_type": "code",
   "execution_count": 33,
   "metadata": {
    "id": "ioOPTfuZNK5-"
   },
   "outputs": [],
   "source": [
    "df_features = df_features.withColumn('Country'                            ,\n",
    "    F.when(df_features['Country'].isNull(),'Unknown').\n",
    "    otherwise(df_features['Country']))"
   ]
  },
  {
   "cell_type": "code",
   "execution_count": 34,
   "metadata": {
    "colab": {
     "base_uri": "https://localhost:8080/"
    },
    "id": "B_jNsLkujVCa",
    "outputId": "7d967385-c044-4575-edbb-c601b5693253"
   },
   "outputs": [
    {
     "data": {
      "text/plain": [
       "CustomerID                          0\n",
       "Country                             0\n",
       "MaxProductSpend_RemovedOutliers     0\n",
       "NumofProds_RemovedOutliers          0\n",
       "NumofTrans_RemovedOutliers          0\n",
       "Frequency_RemovedOutliers           0\n",
       "DistinctItems_RemovedOutliers       0\n",
       "TotalSpend_RemovedOutliers          0\n",
       "MeanProductSpend_RemovedOutliers    0\n",
       "MeanTransSpend_RemovedOutliers      0\n",
       "dtype: int64"
      ]
     },
     "execution_count": 34,
     "metadata": {
      "tags": []
     },
     "output_type": "execute_result"
    }
   ],
   "source": [
    "df_features.toPandas().isnull().sum()"
   ]
  },
  {
   "cell_type": "markdown",
   "metadata": {},
   "source": [
    "## After Data preprocessing (step 35 - 51), we apply Elbow Method to select the k value"
   ]
  },
  {
   "cell_type": "code",
   "execution_count": 52,
   "metadata": {
    "colab": {
     "base_uri": "https://localhost:8080/",
     "height": 458
    },
    "id": "Liz-UdP9Op60",
    "outputId": "9f3d18b5-3446-493e-9202-8437f8c21a29"
   },
   "outputs": [
    {
     "data": {
      "image/png": "[encoded data removed]",
      "text/plain": [
       "<Figure size 1008x504 with 1 Axes>"
      ]
     },
     "metadata": {
      "needs_background": "light",
      "tags": []
     },
     "output_type": "display_data"
    }
   ],
   "source": [
    "from pylab import rcParams\n",
    "rcParams['figure.figsize'] = 14, 7\n",
    "plt.plot(k, wcss)\n",
    "plt.title('Elbow Method')\n",
    "plt.xlabel('Number of clusters')\n",
    "plt.ylabel('WCSS')\n",
    "xi = list(k)\n",
    "plt.xticks(xi)\n",
    "plt.show()"
   ]
  },
  {
   "cell_type": "code",
   "execution_count": 53,
   "metadata": {
    "id": "h2frV2NUej3e"
   },
   "outputs": [],
   "source": [
    "## We select the number of clusters where the change in WCSS begins to level off, let's pick 8."
   ]
  },
  {
   "cell_type": "code",
   "execution_count": 54,
   "metadata": {
    "colab": {
     "base_uri": "https://localhost:8080/"
    },
    "id": "7Or8mp97ep0H",
    "outputId": "e1248e67-0afd-40ce-f43a-1d19d6912bd0"
   },
   "outputs": [
    {
     "name": "stdout",
     "output_type": "stream",
     "text": [
      "+----------+-----+\n",
      "|prediction|count|\n",
      "+----------+-----+\n",
      "|         0|  750|\n",
      "|         1|   36|\n",
      "|         2|    2|\n",
      "|         3|  118|\n",
      "|         4|  196|\n",
      "|         5|  769|\n",
      "|         6| 2292|\n",
      "|         7|  152|\n",
      "+----------+-----+\n",
      "\n",
      "+----------+-----+\n",
      "|prediction|count|\n",
      "+----------+-----+\n",
      "|         0|   32|\n",
      "|         1| 2545|\n",
      "|         2|  240|\n",
      "|         3|   13|\n",
      "|         4|    2|\n",
      "|         5|  365|\n",
      "|         6|  112|\n",
      "|         7| 1006|\n",
      "+----------+-----+\n",
      "\n",
      "+----------+-----+\n",
      "|prediction|count|\n",
      "+----------+-----+\n",
      "|         0|   32|\n",
      "|         1| 2347|\n",
      "|         2|  165|\n",
      "|         3|  142|\n",
      "|         4|    2|\n",
      "|         5|   13|\n",
      "|         6|  749|\n",
      "|         7|  865|\n",
      "+----------+-----+\n",
      "\n",
      "+----------+-----+\n",
      "|prediction|count|\n",
      "+----------+-----+\n",
      "|         0|  733|\n",
      "|         1| 2367|\n",
      "|         2|    5|\n",
      "|         3|  870|\n",
      "|         4|   31|\n",
      "|         5|  153|\n",
      "|         6|  143|\n",
      "|         7|   13|\n",
      "+----------+-----+\n",
      "\n",
      "+----------+-----+\n",
      "|prediction|count|\n",
      "+----------+-----+\n",
      "|         0|  996|\n",
      "|         1|   13|\n",
      "|         2|  374|\n",
      "|         3|  248|\n",
      "|         4|   32|\n",
      "|         5| 2537|\n",
      "|         6|    2|\n",
      "|         7|  113|\n",
      "+----------+-----+\n",
      "\n"
     ]
    }
   ],
   "source": [
    "k = 8\n",
    "for i in range(1,6):\n",
    "    kmeanstest = KMeans(featuresCol='features', k=k, maxIter=1000, tol=1e-4).setSeed(i)\n",
    "    model_test = kmeanstest.fit(data)\n",
    "    best_results = model_test.transform(data)\n",
    "    best_results.groupBy('prediction').count().orderBy('prediction').show()"
   ]
  },
  {
   "cell_type": "code",
   "execution_count": 55,
   "metadata": {
    "colab": {
     "base_uri": "https://localhost:8080/"
    },
    "id": "gZ3NPl3ee7eB",
    "outputId": "e9c6e365-7cc0-4bf1-b3e8-dd00948d7219"
   },
   "outputs": [
    {
     "name": "stdout",
     "output_type": "stream",
     "text": [
      "+----------+-----+\n",
      "|prediction|count|\n",
      "+----------+-----+\n",
      "|         0|  733|\n",
      "|         1| 2367|\n",
      "|         2|    5|\n",
      "|         3|  870|\n",
      "|         4|   31|\n",
      "|         5|  153|\n",
      "|         6|  143|\n",
      "|         7|   13|\n",
      "+----------+-----+\n",
      "\n"
     ]
    }
   ],
   "source": [
    "seed = 4\n",
    "\n",
    "kmeans2 = KMeans(featuresCol='features', k=k, maxIter=1000, tol=1e-4).setSeed(seed)\n",
    "model2 = kmeans2.fit(data)\n",
    "results = model2.transform(data)\n",
    "results.groupBy('prediction').count().orderBy('prediction').show()"
   ]
  },
  {
   "cell_type": "code",
   "execution_count": 56,
   "metadata": {
    "colab": {
     "base_uri": "https://localhost:8080/"
    },
    "id": "vlvKk-dKfCPu",
    "outputId": "883fea9f-1133-4bc0-a4cf-877a79444f31"
   },
   "outputs": [
    {
     "name": "stdout",
     "output_type": "stream",
     "text": [
      "[0.49310846654852153,0.15110039805192443,0.1272036779007646]\n"
     ]
    }
   ],
   "source": [
    "pca = PCA(k=3, inputCol=\"features\", outputCol=\"pcaFeatures\")\n",
    "model_pca = pca.fit(results)\n",
    "print(model_pca.explainedVariance)\n",
    "\n",
    "results_pca = model_pca.transform(results)\n",
    "\n",
    "vector_udf = F.udf(lambda vector: vector.toArray().tolist(),ArrayType(DoubleType()))\n",
    "\n",
    "results_df = results_pca.withColumn('PCA', vector_udf('pcaFeatures'))\\\n",
    "                         .withColumn('PCA_1', F.col('PCA')[0])\\\n",
    "                         .withColumn('PCA_2', F.col('PCA')[1])\\\n",
    "                         .withColumn('PCA_3', F.col('PCA')[2])"
   ]
  },
  {
   "cell_type": "code",
   "execution_count": 57,
   "metadata": {
    "colab": {
     "base_uri": "https://localhost:8080/"
    },
    "id": "1O1d45XTfEkv",
    "outputId": "00ebbe08-ebf5-4872-b482-9ad79c2a63c9"
   },
   "outputs": [
    {
     "data": {
      "text/plain": [
       "0.7714125425012106"
      ]
     },
     "execution_count": 57,
     "metadata": {
      "tags": []
     },
     "output_type": "execute_result"
    }
   ],
   "source": [
    "sum(model_pca.explainedVariance)"
   ]
  },
  {
   "cell_type": "code",
   "execution_count": 58,
   "metadata": {
    "colab": {
     "base_uri": "https://localhost:8080/",
     "height": 186
    },
    "id": "nxbA5QUcfIAX",
    "outputId": "f2691926-a846-4d31-a77b-d44731571ba9"
   },
   "outputs": [
    {
     "data": {
      "text/html": [
       "<div>\n",
       "<style scoped>\n",
       "    .dataframe tbody tr th:only-of-type {\n",
       "        vertical-align: middle;\n",
       "    }\n",
       "\n",
       "    .dataframe tbody tr th {\n",
       "        vertical-align: top;\n",
       "    }\n",
       "\n",
       "    .dataframe thead th {\n",
       "        text-align: right;\n",
       "    }\n",
       "</style>\n",
       "<table border=\"1\" class=\"dataframe\">\n",
       "  <thead>\n",
       "    <tr style=\"text-align: right;\">\n",
       "      <th></th>\n",
       "      <th>CustomerID</th>\n",
       "      <th>features</th>\n",
       "      <th>prediction</th>\n",
       "      <th>pcaFeatures</th>\n",
       "      <th>PCA</th>\n",
       "      <th>PCA_1</th>\n",
       "      <th>PCA_2</th>\n",
       "      <th>PCA_3</th>\n",
       "    </tr>\n",
       "  </thead>\n",
       "  <tbody>\n",
       "    <tr>\n",
       "      <th>0</th>\n",
       "      <td>15596</td>\n",
       "      <td>(1.0, 0.0, 0.0, 0.0, 0.0, 0.0, 0.0, 0.0, 0.0, ...</td>\n",
       "      <td>0</td>\n",
       "      <td>[0.38937587324363415, 0.7677204388175582, 0.87...</td>\n",
       "      <td>[0.38937587324363415, 0.7677204388175582, 0.87...</td>\n",
       "      <td>0.389376</td>\n",
       "      <td>0.767720</td>\n",
       "      <td>0.873811</td>\n",
       "    </tr>\n",
       "    <tr>\n",
       "      <th>1</th>\n",
       "      <td>12377</td>\n",
       "      <td>(0.0, 0.0, 0.0, 0.0, 0.0, 0.0, 1.0, 0.0, 0.0, ...</td>\n",
       "      <td>3</td>\n",
       "      <td>[0.0267845758287798, -1.0987251997106355, -1.5...</td>\n",
       "      <td>[0.0267845758287798, -1.0987251997106355, -1.5...</td>\n",
       "      <td>0.026785</td>\n",
       "      <td>-1.098725</td>\n",
       "      <td>-1.524575</td>\n",
       "    </tr>\n",
       "    <tr>\n",
       "      <th>2</th>\n",
       "      <td>17867</td>\n",
       "      <td>(1.0, 0.0, 0.0, 0.0, 0.0, 0.0, 0.0, 0.0, 0.0, ...</td>\n",
       "      <td>1</td>\n",
       "      <td>[-0.18925050978975536, 0.7079961016743717, 0.8...</td>\n",
       "      <td>[-0.18925050978975536, 0.7079961016743717, 0.8...</td>\n",
       "      <td>-0.189251</td>\n",
       "      <td>0.707996</td>\n",
       "      <td>0.888726</td>\n",
       "    </tr>\n",
       "  </tbody>\n",
       "</table>\n",
       "</div>"
      ],
      "text/plain": [
       "  CustomerID  ...     PCA_3\n",
       "0      15596  ...  0.873811\n",
       "1      12377  ... -1.524575\n",
       "2      17867  ...  0.888726\n",
       "\n",
       "[3 rows x 8 columns]"
      ]
     },
     "execution_count": 58,
     "metadata": {
      "tags": []
     },
     "output_type": "execute_result"
    }
   ],
   "source": [
    "results_df.limit(3).toPandas()"
   ]
  },
  {
   "cell_type": "code",
   "execution_count": 59,
   "metadata": {
    "id": "KSFVordIfImk"
   },
   "outputs": [],
   "source": [
    "cust_cluster_df = results_df.withColumn('ClusterID', F.col('prediction')+1)\\\n",
    "                               .drop('prediction')"
   ]
  },
  {
   "cell_type": "code",
   "execution_count": 60,
   "metadata": {
    "id": "UWxPwkRkfKkV"
   },
   "outputs": [],
   "source": [
    "df_outcome = cust_cluster_df.select('CustomerID','ClusterID','PCA_1','PCA_2','PCA_3').toPandas()"
   ]
  },
  {
   "cell_type": "code",
   "execution_count": 61,
   "metadata": {
    "colab": {
     "base_uri": "https://localhost:8080/"
    },
    "id": "iceTcafsfsKc",
    "outputId": "1a6b69df-8376-44fa-9d41-c81617a4be55"
   },
   "outputs": [
    {
     "data": {
      "text/plain": [
       "2    2367\n",
       "4     870\n",
       "1     733\n",
       "6     153\n",
       "7     143\n",
       "5      31\n",
       "8      13\n",
       "3       5\n",
       "Name: ClusterID, dtype: int64"
      ]
     },
     "execution_count": 61,
     "metadata": {
      "tags": []
     },
     "output_type": "execute_result"
    }
   ],
   "source": [
    "df_outcome = df_outcome.sort_values(by = 'ClusterID')\n",
    "df_outcome.head()\n",
    "df_outcome.CustomerID.nunique()\n",
    "df_outcome.ClusterID.value_counts()#.to_csv('Cluster_size.csv')"
   ]
  }
 ],
 "metadata": {
  "colab": {
   "collapsed_sections": [],
   "name": "Pyspark (Good Copy).ipynb",
   "provenance": []
  },
  "kernelspec": {
   "display_name": "Python 3",
   "language": "python",
   "name": "python3"
  },
  "language_info": {
   "codemirror_mode": {
    "name": "ipython",
    "version": 3
   },
   "file_extension": ".py",
   "mimetype": "text/x-python",
   "name": "python",
   "nbconvert_exporter": "python",
   "pygments_lexer": "ipython3",
   "version": "3.6.7"
  }
 },
 "nbformat": 4,
 "nbformat_minor": 1
}
