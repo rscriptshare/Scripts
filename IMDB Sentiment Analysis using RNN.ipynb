{
 "cells": [
  {
   "cell_type": "markdown",
   "metadata": {},
   "source": [
    "## Objective: Using LSTM to predict whether the movie review is positive or negative."
   ]
  },
  {
   "cell_type": "code",
   "execution_count": 1,
   "metadata": {
    "id": "pdsus1kyXWC8"
   },
   "outputs": [],
   "source": [
    "from tensorflow import keras\n",
    "import numpy as np\n",
    "import tensorflow as tf\n",
    "from tensorflow.keras.datasets import imdb\n",
    "from tensorflow.keras.models import Sequential\n",
    "from tensorflow.keras.preprocessing import sequence\n",
    "from tensorflow.keras.layers import Activation, Dense, BatchNormalization, Conv2D, LSTM, Embedding, SimpleRNN\n",
    "from tensorflow.keras.optimizers import Adam\n",
    "from tensorflow.keras.metrics import categorical_crossentropy\n",
    "\n",
    "VOCAB_SIZE = 88584 \n",
    "MAXLEN = 250    "
   ]
  },
  {
   "cell_type": "code",
   "execution_count": 2,
   "metadata": {
    "colab": {
     "base_uri": "https://localhost:8080/"
    },
    "id": "BpO-u7NYzRv8",
    "outputId": "f9ca3946-b646-449c-884e-fc7b2b5d4733"
   },
   "outputs": [
    {
     "name": "stdout",
     "output_type": "stream",
     "text": [
      "Downloading data from https://storage.googleapis.com/tensorflow/tf-keras-datasets/imdb.npz\n",
      "17465344/17464789 [==============================] - 0s 0us/step\n"
     ]
    },
    {
     "name": "stderr",
     "output_type": "stream",
     "text": [
      "<string>:6: VisibleDeprecationWarning: Creating an ndarray from ragged nested sequences (which is a list-or-tuple of lists-or-tuples-or ndarrays with different lengths or shapes) is deprecated. If you meant to do this, you must specify 'dtype=object' when creating the ndarray\n",
      "/usr/local/lib/python3.6/dist-packages/tensorflow/python/keras/datasets/imdb.py:159: VisibleDeprecationWarning: Creating an ndarray from ragged nested sequences (which is a list-or-tuple of lists-or-tuples-or ndarrays with different lengths or shapes) is deprecated. If you meant to do this, you must specify 'dtype=object' when creating the ndarray\n",
      "  x_train, y_train = np.array(xs[:idx]), np.array(labels[:idx])\n",
      "/usr/local/lib/python3.6/dist-packages/tensorflow/python/keras/datasets/imdb.py:160: VisibleDeprecationWarning: Creating an ndarray from ragged nested sequences (which is a list-or-tuple of lists-or-tuples-or ndarrays with different lengths or shapes) is deprecated. If you meant to do this, you must specify 'dtype=object' when creating the ndarray\n",
      "  x_test, y_test = np.array(xs[idx:]), np.array(labels[idx:])\n"
     ]
    }
   ],
   "source": [
    "(train_data, train_labels), (test_data, test_labels) = imdb.load_data(num_words = VOCAB_SIZE)"
   ]
  },
  {
   "cell_type": "code",
   "execution_count": 3,
   "metadata": {
    "colab": {
     "base_uri": "https://localhost:8080/"
    },
    "id": "0QJyP_Uxp5HV",
    "outputId": "fa7486e7-b7a3-47e0-8fcb-de8c5e31717c"
   },
   "outputs": [
    {
     "name": "stdout",
     "output_type": "stream",
     "text": [
      "Downloading data from https://storage.googleapis.com/tensorflow/tf-keras-datasets/imdb_word_index.json\n",
      "1646592/1641221 [==============================] - 0s 0us/step\n"
     ]
    }
   ],
   "source": [
    "# define word_index & reverse_word_index\n",
    "\n",
    "word_index = imdb.get_word_index() # get {word : index}\n",
    "\n",
    "reverse_word_index = dict(\n",
    "[(index, word) for (word, index) in word_index.items()]\n",
    ")"
   ]
  },
  {
   "cell_type": "markdown",
   "metadata": {
    "id": "uj73NXp1p5HW"
   },
   "source": [
    "### Checking Starts"
   ]
  },
  {
   "cell_type": "code",
   "execution_count": 4,
   "metadata": {
    "colab": {
     "base_uri": "https://localhost:8080/",
     "height": 88
    },
    "id": "mo6GMfLSAyHo",
    "outputId": "cce7b400-1430-4cc5-cfd1-b59026c0764f"
   },
   "outputs": [
    {
     "data": {
      "text/plain": [
       "25000"
      ]
     },
     "metadata": {
      "tags": []
     },
     "output_type": "display_data"
    },
    {
     "data": {
      "text/plain": [
       "25000"
      ]
     },
     "metadata": {
      "tags": []
     },
     "output_type": "display_data"
    },
    {
     "data": {
      "text/plain": [
       "25000"
      ]
     },
     "metadata": {
      "tags": []
     },
     "output_type": "display_data"
    },
    {
     "data": {
      "text/plain": [
       "88583"
      ]
     },
     "execution_count": 4,
     "metadata": {
      "tags": []
     },
     "output_type": "execute_result"
    }
   ],
   "source": [
    "display(len(train_data), len(test_data), len(train_labels))\n",
    "max([max(sequence) for sequence in train_data])"
   ]
  },
  {
   "cell_type": "code",
   "execution_count": 5,
   "metadata": {
    "colab": {
     "base_uri": "https://localhost:8080/"
    },
    "id": "49rfdg2nyzwE",
    "outputId": "bb391c05-25e7-4cfa-c7df-91b931fef409"
   },
   "outputs": [
    {
     "name": "stdout",
     "output_type": "stream",
     "text": [
      "0\n",
      "? this film was just brilliant casting location scenery story direction everyone's really suited the part they played and you could just imagine being there robert redford's is an amazing actor and now the same being director norman's father came from the same scottish island as myself so i loved the fact there was a real connection with this film the witty remarks throughout the film were great it was just brilliant so much that i bought the film as soon as it was released for retail and would recommend it to everyone to watch and the fly fishing was amazing really cried at the end it was so sad and you know what they say if you cry at a film it must have been good and this definitely was also congratulations to the two little boy's that played the part's of norman and paul they were just brilliant children are often left out of the praising list i think because the stars that play them all grown up are such a big profile for the whole film but these children are amazing and should be praised for what they have done don't you think the whole story was so lovely because it was true and was someone's life after all that was shared with us all\n",
      "1\n",
      "? big hair big boobs bad music and a giant safety pin these are the words to best describe this terrible movie i love cheesy horror movies and i've seen hundreds but this had got to be on of the worst ever made the plot is paper thin and ridiculous the acting is an abomination the script is completely laughable the best is the end showdown with the cop and how he worked out who the killer is it's just so damn terribly written the clothes are sickening and funny in equal measures the hair is big lots of boobs bounce men wear those cut tee shirts that show off their stomachs sickening that men actually wore them and the music is just synthesiser trash that plays over and over again in almost every scene there is trashy music boobs and paramedics taking away bodies and the gym still doesn't close for bereavement all joking aside this is a truly bad film whose only charm is to look back on the disaster that was the 80's and have a good old laugh at how bad everything was back then\n",
      "2\n",
      "? this has to be one of the worst films of the 1990s when my friends i were watching this film being the target audience it was aimed at we just sat watched the first half an hour with our jaws touching the floor at how bad it really was the rest of the time everyone else in the theatre just started talking to each other leaving or generally crying into their popcorn that they actually paid money they had earnt working to watch this feeble excuse for a film it must have looked like a great idea on paper but on film it looks like no one in the film has a clue what is going on crap acting crap costumes i can't get across how embarrasing this is to watch save yourself an hour a bit of your life\n"
     ]
    }
   ],
   "source": [
    "for j in range(3):\n",
    "  print(j)\n",
    "  print(' '.join([reverse_word_index.get(i - 3, '?') for i in train_data[j]]))"
   ]
  },
  {
   "cell_type": "code",
   "execution_count": 6,
   "metadata": {
    "colab": {
     "base_uri": "https://localhost:8080/",
     "height": 52
    },
    "id": "SwvOivQ3n6Xp",
    "outputId": "d327cc26-d4c3-40d1-8172-20c58a5cd1b3"
   },
   "outputs": [
    {
     "data": {
      "text/plain": [
       "{'fawn': 34701, 'nunnery': 52007, 'tsukino': 52006}"
      ]
     },
     "metadata": {
      "tags": []
     },
     "output_type": "display_data"
    },
    {
     "data": {
      "text/plain": [
       "{34701: 'fawn', 52006: 'tsukino', 52007: 'nunnery'}"
      ]
     },
     "execution_count": 6,
     "metadata": {
      "tags": []
     },
     "output_type": "execute_result"
    }
   ],
   "source": [
    "display(dict(list(word_index.items())[:3]))\n",
    "dict(list(reverse_word_index.items())[:3])"
   ]
  },
  {
   "cell_type": "code",
   "execution_count": 7,
   "metadata": {
    "colab": {
     "base_uri": "https://localhost:8080/",
     "height": 128
    },
    "id": "kDPieyBS15Sc",
    "outputId": "aef1bb70-49dc-4167-ad10-ca7ef6056c56"
   },
   "outputs": [
    {
     "name": "stdout",
     "output_type": "stream",
     "text": [
      "? this film was just brilliant casting location scenery story direction everyone's really suited the part they played and you could just imagine being there robert redford's is an amazing actor and now the same being director norman's father came from the same scottish island as myself so i loved the fact there was a real connection with this film the witty remarks throughout the film were great it was just brilliant so much that i bought the film as soon as it was released for retail and would recommend it to everyone to watch and the fly fishing was amazing really cried at the end it was so sad and you know what they say if you cry at a film it must have been good and this definitely was also congratulations to the two little boy's that played the part's of norman and paul they were just brilliant children are often left out of the praising list i think because the stars that play them all grown up are such a big profile for the whole film but these children are amazing and should be praised for what they have done don't you think the whole story was so lovely because it was true and was someone's life after all that was shared with us all\n"
     ]
    },
    {
     "data": {
      "application/vnd.google.colaboratory.intrinsic+json": {
       "type": "string"
      },
      "text/plain": [
       "'the'"
      ]
     },
     "metadata": {
      "tags": []
     },
     "output_type": "display_data"
    },
    {
     "data": {
      "application/vnd.google.colaboratory.intrinsic+json": {
       "type": "string"
      },
      "text/plain": [
       "'fawn'"
      ]
     },
     "metadata": {
      "tags": []
     },
     "output_type": "display_data"
    },
    {
     "data": {
      "text/plain": [
       "11"
      ]
     },
     "metadata": {
      "tags": []
     },
     "output_type": "display_data"
    },
    {
     "data": {
      "application/vnd.google.colaboratory.intrinsic+json": {
       "type": "string"
      },
      "text/plain": [
       "'this'"
      ]
     },
     "metadata": {
      "tags": []
     },
     "output_type": "display_data"
    }
   ],
   "source": [
    "print(' '.join([reverse_word_index.get(i-3, '?') for i in train_data[0]]))\n",
    "display(reverse_word_index.get(1))\n",
    "display(reverse_word_index.get(34701))\n",
    "display(word_index.get('this'))\n",
    "display(reverse_word_index.get(11))"
   ]
  },
  {
   "cell_type": "code",
   "execution_count": 8,
   "metadata": {
    "colab": {
     "base_uri": "https://localhost:8080/",
     "height": 479
    },
    "id": "Wh6lOpcQ9sIZ",
    "outputId": "492a59b4-987a-4c05-9064-957a53ad8d0b"
   },
   "outputs": [
    {
     "data": {
      "text/plain": [
       "218"
      ]
     },
     "metadata": {
      "tags": []
     },
     "output_type": "display_data"
    },
    {
     "data": {
      "text/plain": [
       "array([[    1,    14,    22,    16,    43,   530,   973,  1622,  1385,\n",
       "           65,   458,  4468,    66,  3941,     4,   173,    36,   256,\n",
       "            5,    25,   100,    43,   838,   112,    50,   670, 22665,\n",
       "            9,    35,   480,   284,     5,   150,     4,   172,   112,\n",
       "          167, 21631,   336,   385,    39,     4,   172,  4536,  1111,\n",
       "           17,   546,    38,    13,   447,     4,   192,    50,    16,\n",
       "            6,   147,  2025,    19,    14,    22,     4,  1920,  4613,\n",
       "          469,     4,    22,    71,    87,    12,    16,    43,   530,\n",
       "           38,    76,    15,    13,  1247,     4,    22,    17,   515,\n",
       "           17,    12,    16,   626,    18, 19193,     5,    62,   386,\n",
       "           12,     8,   316,     8,   106,     5,     4,  2223,  5244,\n",
       "           16,   480,    66,  3785,    33,     4,   130,    12,    16,\n",
       "           38,   619,     5,    25,   124,    51,    36,   135,    48,\n",
       "           25,  1415,    33,     6,    22,    12,   215,    28,    77,\n",
       "           52,     5,    14,   407,    16,    82, 10311,     8,     4,\n",
       "          107,   117,  5952,    15,   256,     4, 31050,     7,  3766,\n",
       "            5,   723,    36,    71,    43,   530,   476,    26,   400,\n",
       "          317,    46,     7,     4, 12118,  1029,    13,   104,    88,\n",
       "            4,   381,    15,   297,    98,    32,  2071,    56,    26,\n",
       "          141,     6,   194,  7486,    18,     4,   226,    22,    21,\n",
       "          134,   476,    26,   480,     5,   144,    30,  5535,    18,\n",
       "           51,    36,    28,   224,    92,    25,   104,     4,   226,\n",
       "           65,    16,    38,  1334,    88,    12,    16,   283,     5,\n",
       "           16,  4472,   113,   103,    32,    15,    16,  5345,    19,\n",
       "          178,    32]])"
      ]
     },
     "execution_count": 8,
     "metadata": {
      "tags": []
     },
     "output_type": "execute_result"
    }
   ],
   "source": [
    "display(len(train_data[0]))\n",
    "\n",
    "np.reshape(train_data[0], (1,len(train_data[0])))"
   ]
  },
  {
   "cell_type": "markdown",
   "metadata": {
    "id": "v_SkI_iMp5Hd"
   },
   "source": [
    "### Checking Ends"
   ]
  },
  {
   "cell_type": "markdown",
   "metadata": {
    "id": "EAtZHE9-eQ07"
   },
   "source": [
    "Fixing the comments' length in order to fit into the neural network "
   ]
  },
  {
   "cell_type": "code",
   "execution_count": 9,
   "metadata": {
    "colab": {
     "base_uri": "https://localhost:8080/"
    },
    "id": "Z3qQ83sNeog6",
    "outputId": "ab655252-4a5c-466c-ac78-681392afb535"
   },
   "outputs": [
    {
     "data": {
      "text/plain": [
       "array([    0,     0,     0,     0,     0,     0,     0,     0,     0,\n",
       "           0,     0,     0,     0,     0,     0,     0,     0,     0,\n",
       "           0,     0,     0,     0,     0,     0,     0,     0,     0,\n",
       "           0,     0,     0,     0,     0,     1,    14,    22,    16,\n",
       "          43,   530,   973,  1622,  1385,    65,   458,  4468,    66,\n",
       "        3941,     4,   173,    36,   256,     5,    25,   100,    43,\n",
       "         838,   112,    50,   670, 22665,     9,    35,   480,   284,\n",
       "           5,   150,     4,   172,   112,   167, 21631,   336,   385,\n",
       "          39,     4,   172,  4536,  1111,    17,   546,    38,    13,\n",
       "         447,     4,   192,    50,    16,     6,   147,  2025,    19,\n",
       "          14,    22,     4,  1920,  4613,   469,     4,    22,    71,\n",
       "          87,    12,    16,    43,   530,    38,    76,    15,    13,\n",
       "        1247,     4,    22,    17,   515,    17,    12,    16,   626,\n",
       "          18, 19193,     5,    62,   386,    12,     8,   316,     8,\n",
       "         106,     5,     4,  2223,  5244,    16,   480,    66,  3785,\n",
       "          33,     4,   130,    12,    16,    38,   619,     5,    25,\n",
       "         124,    51,    36,   135,    48,    25,  1415,    33,     6,\n",
       "          22,    12,   215,    28,    77,    52,     5,    14,   407,\n",
       "          16,    82, 10311,     8,     4,   107,   117,  5952,    15,\n",
       "         256,     4, 31050,     7,  3766,     5,   723,    36,    71,\n",
       "          43,   530,   476,    26,   400,   317,    46,     7,     4,\n",
       "       12118,  1029,    13,   104,    88,     4,   381,    15,   297,\n",
       "          98,    32,  2071,    56,    26,   141,     6,   194,  7486,\n",
       "          18,     4,   226,    22,    21,   134,   476,    26,   480,\n",
       "           5,   144,    30,  5535,    18,    51,    36,    28,   224,\n",
       "          92,    25,   104,     4,   226,    65,    16,    38,  1334,\n",
       "          88,    12,    16,   283,     5,    16,  4472,   113,   103,\n",
       "          32,    15,    16,  5345,    19,   178,    32], dtype=int32)"
      ]
     },
     "execution_count": 9,
     "metadata": {
      "tags": []
     },
     "output_type": "execute_result"
    }
   ],
   "source": [
    "train_data = sequence.pad_sequences(train_data, MAXLEN)\n",
    "test_data = sequence.pad_sequences(test_data, MAXLEN)\n",
    "train_data[0]"
   ]
  },
  {
   "cell_type": "markdown",
   "metadata": {
    "id": "mDm_0RTVir7I"
   },
   "source": [
    "### Creating the Model\n",
    "Use a word embedding layer & a LSTM layer to feed into a dense node."
   ]
  },
  {
   "cell_type": "code",
   "execution_count": 10,
   "metadata": {
    "colab": {
     "base_uri": "https://localhost:8080/"
    },
    "id": "sjoMuvKyu7kz",
    "outputId": "52b4edad-6f9b-4a2c-9165-3996bfcf8e67"
   },
   "outputs": [
    {
     "name": "stdout",
     "output_type": "stream",
     "text": [
      "WARNING:tensorflow:Layer lstm will not use cuDNN kernel since it doesn't meet the cuDNN kernel criteria. It will use generic GPU kernel as fallback when running on GPU\n"
     ]
    }
   ],
   "source": [
    "model = Sequential()\n",
    "model.add(Embedding(VOCAB_SIZE,output_dim = 16, input_length = MAXLEN,  ))\n",
    "model.add(LSTM(16, dropout= 0.5, recurrent_dropout = 0.5))\n",
    "model.add(Dense(1, activation = 'sigmoid'))  "
   ]
  },
  {
   "cell_type": "code",
   "execution_count": 11,
   "metadata": {
    "colab": {
     "base_uri": "https://localhost:8080/"
    },
    "id": "AcCaoWCkvE74",
    "outputId": "a13ae112-731f-4a5a-f2f0-bb1f7d2f7e55"
   },
   "outputs": [
    {
     "name": "stdout",
     "output_type": "stream",
     "text": [
      "Epoch 1/4\n",
      "625/625 [==============================] - 249s 394ms/step - loss: 0.6105 - acc: 0.6400 - val_loss: 0.3832 - val_acc: 0.8540\n",
      "Epoch 2/4\n",
      "625/625 [==============================] - 245s 393ms/step - loss: 0.3243 - acc: 0.8715 - val_loss: 0.3266 - val_acc: 0.8818\n",
      "Epoch 3/4\n",
      "625/625 [==============================] - 245s 392ms/step - loss: 0.2504 - acc: 0.9048 - val_loss: 0.3880 - val_acc: 0.8748\n",
      "Epoch 4/4\n",
      "625/625 [==============================] - 245s 393ms/step - loss: 0.2080 - acc: 0.9257 - val_loss: 0.3081 - val_acc: 0.8850\n"
     ]
    }
   ],
   "source": [
    "BATCH_SIZE = 32\n",
    "model.compile(loss=\"binary_crossentropy\",optimizer=\"rmsprop\",metrics=['acc'])\n",
    "\n",
    "history = model.fit(train_data, train_labels, epochs=4, batch_size=BATCH_SIZE, validation_split=0.2, verbose = 1, shuffle = True)"
   ]
  },
  {
   "cell_type": "markdown",
   "metadata": {},
   "source": [
    "### Check for overfitting: train_acc isn't way larger than val_acc, so let's proceed."
   ]
  },
  {
   "cell_type": "code",
   "execution_count": 12,
   "metadata": {
    "colab": {
     "base_uri": "https://localhost:8080/"
    },
    "id": "Er-fFSVwGFQ_",
    "outputId": "5e4548f5-bbf6-4396-9485-bbddda23e8db"
   },
   "outputs": [
    {
     "data": {
      "text/plain": [
       "dict_keys(['loss', 'acc', 'val_loss', 'val_acc'])"
      ]
     },
     "execution_count": 12,
     "metadata": {
      "tags": []
     },
     "output_type": "execute_result"
    }
   ],
   "source": [
    "history_dict = history.history\n",
    "history_dict.keys()"
   ]
  },
  {
   "cell_type": "code",
   "execution_count": 13,
   "metadata": {
    "colab": {
     "base_uri": "https://localhost:8080/",
     "height": 295
    },
    "id": "7UzNgX2HGMIh",
    "outputId": "08a11698-9c1a-4fc7-8546-e4f151c35c05"
   },
   "outputs": [
    {
     "data": {
      "image/png": "[encoded data removed]",
      "text/plain": [
       "<Figure size 432x288 with 1 Axes>"
      ]
     },
     "metadata": {
      "needs_background": "light",
      "tags": []
     },
     "output_type": "display_data"
    }
   ],
   "source": [
    "import matplotlib.pyplot as plt\n",
    "history_dict = history.history\n",
    "loss_values = history_dict['loss']\n",
    "val_loss_values = history_dict['val_loss']\n",
    "epochs = range(1, len(loss_values) + 1)\n",
    "plt.plot(epochs, loss_values, 'bo', label='Training loss')\n",
    "plt.plot(epochs, val_loss_values, 'b', label='Validation loss')\n",
    "plt.title('Training and Validation loss')\n",
    "plt.xlabel('Epochs')\n",
    "plt.ylabel('Loss')\n",
    "plt.legend()\n",
    "plt.show()"
   ]
  },
  {
   "cell_type": "code",
   "execution_count": 14,
   "metadata": {
    "colab": {
     "base_uri": "https://localhost:8080/",
     "height": 295
    },
    "id": "5eHXukTiGQWS",
    "outputId": "86c45250-5931-4043-e249-ed28302a8802"
   },
   "outputs": [
    {
     "data": {
      "image/png": "[encoded data removed]",
      "text/plain": [
       "<Figure size 432x288 with 1 Axes>"
      ]
     },
     "metadata": {
      "needs_background": "light",
      "tags": []
     },
     "output_type": "display_data"
    }
   ],
   "source": [
    "plt.clf()\n",
    "acc = history_dict['acc']\n",
    "val_acc = history_dict['val_acc']\n",
    "plt.plot(epochs, acc, 'bo', label='Training acc')\n",
    "plt.plot(epochs, val_acc, 'b', label='Validation acc')\n",
    "plt.title('Training and Validation accuracy')\n",
    "plt.xlabel('Epochs')\n",
    "plt.ylabel('Accuracy')\n",
    "plt.legend()\n",
    "plt.show()"
   ]
  },
  {
   "cell_type": "code",
   "execution_count": 15,
   "metadata": {
    "colab": {
     "base_uri": "https://localhost:8080/"
    },
    "id": "O8_jPL_Kkr-a",
    "outputId": "3af73227-c1f7-4aae-abc3-e6b60e8177e9"
   },
   "outputs": [
    {
     "name": "stdout",
     "output_type": "stream",
     "text": [
      "Model: \"sequential\"\n",
      "_________________________________________________________________\n",
      "Layer (type)                 Output Shape              Param #   \n",
      "=================================================================\n",
      "embedding (Embedding)        (None, 250, 16)           1417344   \n",
      "_________________________________________________________________\n",
      "lstm (LSTM)                  (None, 16)                2112      \n",
      "_________________________________________________________________\n",
      "dense (Dense)                (None, 1)                 17        \n",
      "=================================================================\n",
      "Total params: 1,419,473\n",
      "Trainable params: 1,419,473\n",
      "Non-trainable params: 0\n",
      "_________________________________________________________________\n"
     ]
    }
   ],
   "source": [
    "model.summary()"
   ]
  },
  {
   "cell_type": "code",
   "execution_count": 16,
   "metadata": {
    "colab": {
     "base_uri": "https://localhost:8080/"
    },
    "id": "KImNMWTDoJaQ",
    "outputId": "6254f407-52a4-49f2-fafd-f756dbd010a9"
   },
   "outputs": [
    {
     "name": "stdout",
     "output_type": "stream",
     "text": [
      "782/782 [==============================] - 51s 65ms/step - loss: 0.3660 - acc: 0.8637\n",
      "[0.3659655749797821, 0.8636800050735474]\n",
      "Loss is 36.597\n",
      "Accuracy is  86.36800050735474 %\n"
     ]
    }
   ],
   "source": [
    "results = model.evaluate(test_data, test_labels)\n",
    "print(results)\n",
    "print('Loss is ' + '{:.3f}'.format(results[0]*100))\n",
    "print('Accuracy is ', results[1]*100, '%')"
   ]
  },
  {
   "cell_type": "code",
   "execution_count": 17,
   "metadata": {
    "colab": {
     "base_uri": "https://localhost:8080/"
    },
    "id": "RJwd54r_jqYU",
    "outputId": "b9f16bae-3bac-42b8-b3dc-0080c24f4b2b"
   },
   "outputs": [
    {
     "name": "stdout",
     "output_type": "stream",
     "text": [
      "Prediction   Label    Sentence\n",
      "0             0         ? ? ? ? ? ? ? ? ? ? ? ? ? ? ? ? ? ? ? ? ? ? ? ? ? ? ? ? ? ? ? ? ? ? ? ? ? ? ? ? ? ? ? ? ? ? ? ? ? ? ? ? ? ? ? ? ? ? ? ? ? ? ? ? ? ? ? ? ? ? ? ? ? ? ? ? ? ? ? ? ? ? ? ? ? ? ? ? ? ? ? ? ? ? ? ? ? ? ? ? ? ? ? ? ? ? ? ? ? ? ? ? ? ? ? ? ? ? ? ? i never really knew who robert wuhl was before seeing this but after seeing it i realized what a funny man he is this hbo special features him teaching american history to new york university film students and the man was just phenomenal he poked fun at almost every key historic event that occurred not just in the u s but some other parts of the world this documentary comedy was a great satire that made me question if what i accept as the infallible true history is really true br br i enjoyed how mr wuhl managed to mix useful information with great comedy and made learning a lot more exciting i would recommend this to anyone interested in history and is willing to question what his her beliefs\n",
      "0             0         song so much for having melody as a name and the music is not at all beautiful or moving little mermaid 1 won an oscar for it and it truly deserved it this one deserved a razzie award for worst musical score in a sequel if it would exist br br i did not like the voices several people who played characters from the first did the same ones in this jodi benson is a great singer but now that she is older no offence to her her voice is too deep and not so beautiful anymore and i am really disappointed in her and others who were in the first for being a part of this if i was chosen for this film just by reading the script i can tell it would be a bad film the characters are different now ariel is more wiser now but annoying they overdid her character making her too mature in sequels you are not meant to change the characters unless it is for a special reason she was sixteen in the first there is little chance she changes that is the stage when you become the person you are going to be for the rest of your life screenwriters should think of that they should think of the character br br well i suppose that is it for me i hope you find my comment useful because i am sure a lot of you will agree with my point of view\n",
      "1             1         ? ? ? ? ? ? ? ? ? ? ? ? ? ? ? ? ? ? ? ? ? ? ? ? ? ? ? ? ? ? ? ? ? ? ? ? ? ? ? ? ? ? ? ? ? ? ? ? ? ? ? ? ? ? ? ? ? ? ? ? ? ? ? ? ? ? ? ? ? ? ? ? ? ? ? ? ? ? ? ? ? ? ? ? ? ? ? ? ? ? ? ? ? ? ? ? ? ? ? ? ? ? ? ? ? ? ? ? ? ? ? ? ? ? ? ? ? ? ? ? i've seen this movie twice with my teenagers who love it this one ought to be a cult fave the best line your dress is deeply cool says the prince to cinderella kathleen turner shines as the stepmother i also like the 1950's era cars and motorcycles the melancholy prince is a great departure from the typical swashbuckler he tries to stay cool but fails to hide his love for the fairy tale princess to be her slipper is not glass truer to the original story but cinderella loses is nonetheless but gets it back from the heir to the throne my only complaint is that it is not shown more and seems to be almost impossible to get hopefully blockbuster or amazon will start stocking this one sometime soon\n"
     ]
    }
   ],
   "source": [
    "print('{}   {}    {}'.format('Prediction', 'Label', 'Sentence'))\n",
    "for j in range(3):\n",
    "  idx = np.random.randint(len(test_data))\n",
    "  xtest = test_data[idx].reshape(1,250)\n",
    "  ylabel = test_labels[idx]\n",
    "  ypred = model.predict(xtest)[0][0]\n",
    "  sent = (' '.join([reverse_word_index.get(i - 3, '?') for i in train_data[idx]]))\n",
    "  print('{}             {}         {}'.format(int(round(ypred)),ylabel,sent))"
   ]
  },
  {
   "cell_type": "code",
   "execution_count": 18,
   "metadata": {
    "id": "ktD3r9WjGFSu"
   },
   "outputs": [],
   "source": [
    "outcome = model.predict(test_data)"
   ]
  },
  {
   "cell_type": "code",
   "execution_count": 19,
   "metadata": {
    "id": "YRhAl3V3GXMd"
   },
   "outputs": [],
   "source": [
    "import pandas as pd\n",
    "df = pd.DataFrame(outcome)\n",
    "df['Actual'] = test_labels"
   ]
  },
  {
   "cell_type": "code",
   "execution_count": 20,
   "metadata": {
    "colab": {
     "base_uri": "https://localhost:8080/",
     "height": 135
    },
    "id": "WxDeOGLG2Re6",
    "outputId": "3841c00d-660c-4993-fdb3-82c765b72371"
   },
   "outputs": [
    {
     "data": {
      "text/html": [
       "<div>\n",
       "<style scoped>\n",
       "    .dataframe tbody tr th:only-of-type {\n",
       "        vertical-align: middle;\n",
       "    }\n",
       "\n",
       "    .dataframe tbody tr th {\n",
       "        vertical-align: top;\n",
       "    }\n",
       "\n",
       "    .dataframe thead th {\n",
       "        text-align: right;\n",
       "    }\n",
       "</style>\n",
       "<table border=\"1\" class=\"dataframe\">\n",
       "  <thead>\n",
       "    <tr style=\"text-align: right;\">\n",
       "      <th></th>\n",
       "      <th>0</th>\n",
       "      <th>Actual</th>\n",
       "    </tr>\n",
       "  </thead>\n",
       "  <tbody>\n",
       "    <tr>\n",
       "      <th>0</th>\n",
       "      <td>0.028895</td>\n",
       "      <td>0</td>\n",
       "    </tr>\n",
       "    <tr>\n",
       "      <th>1</th>\n",
       "      <td>0.985584</td>\n",
       "      <td>1</td>\n",
       "    </tr>\n",
       "    <tr>\n",
       "      <th>2</th>\n",
       "      <td>0.395207</td>\n",
       "      <td>1</td>\n",
       "    </tr>\n",
       "  </tbody>\n",
       "</table>\n",
       "</div>"
      ],
      "text/plain": [
       "          0  Actual\n",
       "0  0.028895       0\n",
       "1  0.985584       1\n",
       "2  0.395207       1"
      ]
     },
     "execution_count": 20,
     "metadata": {
      "tags": []
     },
     "output_type": "execute_result"
    }
   ],
   "source": [
    "df.head(3)"
   ]
  },
  {
   "cell_type": "code",
   "execution_count": 21,
   "metadata": {
    "colab": {
     "base_uri": "https://localhost:8080/",
     "height": 732
    },
    "id": "_4TOtPnhHzjy",
    "outputId": "91ed6187-90e1-4c24-8906-877d71faeb5e"
   },
   "outputs": [
    {
     "name": "stdout",
     "output_type": "stream",
     "text": [
      "confusion matrix [[11693  2601]\n",
      " [  807  9899]]\n",
      "              precision    recall  f1-score   support\n",
      "\n",
      "         0.0       0.94      0.82      0.87     14294\n",
      "         1.0       0.79      0.92      0.85     10706\n",
      "\n",
      "    accuracy                           0.86     25000\n",
      "   macro avg       0.86      0.87      0.86     25000\n",
      "weighted avg       0.87      0.86      0.86     25000\n",
      "\n"
     ]
    },
    {
     "data": {
      "image/png": "[encoded data removed]",
      "text/plain": [
       "<Figure size 1800x648 with 1 Axes>"
      ]
     },
     "metadata": {
      "needs_background": "light",
      "tags": []
     },
     "output_type": "display_data"
    }
   ],
   "source": [
    "from sklearn.metrics import confusion_matrix, classification_report\n",
    "df.rename(columns = {0:'prediction'}, inplace=True)\n",
    "df.prediction.hist(bins = 25, figsize = (25,9), )\n",
    "print(\"confusion matrix\",confusion_matrix(df.prediction.round(), df.Actual))\n",
    "print(classification_report(df.prediction.round(), df.Actual))"
   ]
  },
  {
   "cell_type": "markdown",
   "metadata": {
    "id": "N1RRGcr9CFCW"
   },
   "source": [
    "Looking at the distribution, the model performed quite well with an 86% accuracy."
   ]
  },
  {
   "cell_type": "code",
   "execution_count": 22,
   "metadata": {
    "colab": {
     "base_uri": "https://localhost:8080/"
    },
    "id": "Onu8leY4Cn9z",
    "outputId": "e5e36ce3-f9ed-49f3-f995-05ef98d259b5"
   },
   "outputs": [
    {
     "name": "stdout",
     "output_type": "stream",
     "text": [
      "[   0    0    0    0    0    0    0    0    0    0    0    0    0    0\n",
      "    0    0    0    0    0    0    0    0    0    0    0    0    0    0\n",
      "    0    0    0    0    0    0    0    0    0    0    0    0    0    0\n",
      "    0    0    0    0    0    0    0    0    0    0    0    0    0    0\n",
      "    0    0    0    0    0    0    0    0    0    0    0    0    0    0\n",
      "    0    0    0    0    0    0    0    0    0    0    0    0    0    0\n",
      "    0    0    0    0    0    0    0    0    0    0    0    0    0    0\n",
      "    0    0    0    0    0    0    0    0    0    0    0    0    0    0\n",
      "    0    0    0    0    0    0    0    0    0    0    0    0    0    0\n",
      "    0    0    0    0    0    0    0    0    0    0    0    0    0    0\n",
      "    0    0    0    0    0    0    0    0    0    0    0    0    0    0\n",
      "    0    0    0    0    0    0    0    0    0    0    0    0    0    0\n",
      "    0    0    0    0    0    0    0    0    0    0    0    0    0    0\n",
      "    0    0    0    0    0    0    0    0    0    0    0    0    0    0\n",
      "    0    0    0    0    0    0    0    0    0    0    0    0    0    0\n",
      "    0    0    0    0    0    0    0    0    0    0    0    0    0    0\n",
      "    0    0    0    0    0    0    0    0    0    0    0    0    0    0\n",
      "    0    0    0    0    0    0    9   13   32  573 1124   17]\n"
     ]
    }
   ],
   "source": [
    "# encode function\n",
    "\n",
    "word_index = imdb.get_word_index()\n",
    "\n",
    "def encode_text(text):\n",
    "  tokens = keras.preprocessing.text.text_to_word_sequence(text)\n",
    "  tokens = [word_index[word] if word in word_index else 0 for word in tokens]\n",
    "  return sequence.pad_sequences([tokens], MAXLEN)[0]\n",
    "\n",
    "text = \"It was an extremely exciting movie!\"\n",
    "encoded = encode_text(text)\n",
    "print(encoded)"
   ]
  },
  {
   "cell_type": "markdown",
   "metadata": {},
   "source": [
    "#### Let's try a few predictions"
   ]
  },
  {
   "cell_type": "code",
   "execution_count": 24,
   "metadata": {
    "id": "L8nyrr00HPZF"
   },
   "outputs": [],
   "source": [
    "def predict(text):\n",
    "  encoded_text = encode_text(text)\n",
    "  pred = np.zeros((1,250))\n",
    "  pred[0] = encoded_text\n",
    "  result = model.predict(pred) \n",
    "  print(result[0])"
   ]
  },
  {
   "cell_type": "code",
   "execution_count": 25,
   "metadata": {
    "colab": {
     "base_uri": "https://localhost:8080/"
    },
    "id": "Tf-TaFBbwnZv",
    "outputId": "4898256c-ad3b-40f6-b6bf-93fc7c75b518"
   },
   "outputs": [
    {
     "name": "stdout",
     "output_type": "stream",
     "text": [
      "[0.6522331]\n",
      "[0.43543726]\n"
     ]
    }
   ],
   "source": [
    "review1 = \"amazing movie, it's just so amazing amazing amazing amazing amazing amazing amazing\"\n",
    "predict(review1)\n",
    "\n",
    "review2 = \"That movie was crazy bad! I will not watch again\"\n",
    "predict(review2)"
   ]
  },
  {
   "cell_type": "code",
   "execution_count": 26,
   "metadata": {
    "colab": {
     "base_uri": "https://localhost:8080/"
    },
    "id": "FVQZFwVkp5Hx",
    "outputId": "c12150ac-37a1-4057-8912-729c18082ea3"
   },
   "outputs": [
    {
     "name": "stdout",
     "output_type": "stream",
     "text": [
      "[0.7226346]\n",
      "[0.2231981]\n"
     ]
    }
   ],
   "source": [
    "review3 = \"That movie was awesome! I enjoyed watching it and it's worth to bring someone you love to watch together again.\"\n",
    "predict(review3)\n",
    "\n",
    "review4 = \"that movie really disappointed me. I hated it and wouldn't watch it again. Was one of the worst things I've ever watched.\"\n",
    "\n",
    "predict(review4)"
   ]
  },
  {
   "cell_type": "markdown",
   "metadata": {
    "id": "Cw-1eDE54yQo"
   },
   "source": [
    "### Reference\n",
    "\n",
    "Chollet François. Deep Learning with Python. Manning Publications Co., 2018."
   ]
  }
 ],
 "metadata": {
  "accelerator": "GPU",
  "colab": {
   "collapsed_sections": [],
   "name": "IMDB prediction by RNN (run on local).ipynb",
   "provenance": []
  },
  "kernelspec": {
   "display_name": "Python 3",
   "language": "python",
   "name": "python3"
  },
  "language_info": {
   "codemirror_mode": {
    "name": "ipython",
    "version": 3
   },
   "file_extension": ".py",
   "mimetype": "text/x-python",
   "name": "python",
   "nbconvert_exporter": "python",
   "pygments_lexer": "ipython3",
   "version": "3.6.7"
  }
 },
 "nbformat": 4,
 "nbformat_minor": 1
}
